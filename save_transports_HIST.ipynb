{
 "cells": [
  {
   "cell_type": "markdown",
   "id": "quick-citizenship",
   "metadata": {},
   "source": [
    "# Saving HIST volume transports through major straits"
   ]
  },
  {
   "cell_type": "markdown",
   "id": "married-andorra",
   "metadata": {},
   "source": [
    "This notebook provides estimates of mean annual net volume transports through the major straits and passages, computed from the fesom2 native grid.\n",
    "Values from AWICM-1 and observational studies are recalled for comparison.\n",
    "\n",
    "Positive values are eastward/northward, negative values are westward/southward."
   ]
  },
  {
   "cell_type": "markdown",
   "id": "bibliographic-prior",
   "metadata": {},
   "source": [
    "## Initialisation and module loading"
   ]
  },
  {
   "cell_type": "code",
   "execution_count": 1,
   "id": "respiratory-shock",
   "metadata": {},
   "outputs": [
    {
     "name": "stderr",
     "output_type": "stream",
     "text": [
      "/work/ba1138/a270170/miniconda3/envs/pyfesom2/lib/python3.8/site-packages/pyresample/bilinear/__init__.py:50: UserWarning: XArray and/or zarr not found, XArrayBilinearResampler won't be available.\n",
      "  warnings.warn(\"XArray and/or zarr not found, XArrayBilinearResampler won't be available.\")\n"
     ]
    },
    {
     "name": "stdout",
     "output_type": "stream",
     "text": [
      "osgeo is not installed, conversion to Geo formats like Geotiff (fesom2GeoFormat) will not work.\n"
     ]
    }
   ],
   "source": [
    "#import sys\n",
    "#sys.path.append('/home/a/a270170/pyfesom2_dev/pyfesom2_dev/')\n",
    "import pymap3d as pm\n",
    "import pyfesom2 as pf\n",
    "#import numba"
   ]
  },
  {
   "cell_type": "code",
   "execution_count": 2,
   "id": "exterior-catalog",
   "metadata": {},
   "outputs": [
    {
     "data": {
      "text/plain": [
       "<module 'pyfesom2' from '/mnt/lustre02/work/ba1138/a270170/miniconda3/pyfesom2/pyfesom2/__init__.py'>"
      ]
     },
     "execution_count": 2,
     "metadata": {},
     "output_type": "execute_result"
    }
   ],
   "source": [
    "pf"
   ]
  },
  {
   "cell_type": "code",
   "execution_count": 3,
   "id": "classified-formation",
   "metadata": {},
   "outputs": [],
   "source": [
    "import numpy as np\n",
    "import matplotlib.pyplot as plt\n",
    "import cartopy.crs as ccrs\n",
    "import matplotlib.ticker as mticker\n",
    "import cmocean.cm as cmo\n",
    "import cartopy.crs as ccrs\n",
    "import cartopy.feature as cfeature\n",
    "from cartopy.mpl.gridliner import LONGITUDE_FORMATTER, LATITUDE_FORMATTER\n",
    "import xarray as xr\n",
    "import cmocean.cm as cmo\n",
    "from IPython.display import Image"
   ]
  },
  {
   "cell_type": "code",
   "execution_count": 4,
   "id": "fourth-string",
   "metadata": {},
   "outputs": [
    {
     "name": "stdout",
     "output_type": "stream",
     "text": [
      "/pf/a/a270170/swift.dkrz.de/core2/pickle_mesh_py3_fesom2\n",
      "The usepickle == True)\n",
      "The pickle file for FESOM2 exists.\n",
      "The mesh will be loaded from /pf/a/a270170/swift.dkrz.de/core2/pickle_mesh_py3_fesom2\n"
     ]
    }
   ],
   "source": [
    "mesh = pf.load_mesh('/pf/a/a270170/swift.dkrz.de/core2/')\n",
    "mesh_diag = xr.open_dataset('/pf/a/a270170/swift.dkrz.de/core2/fesom.mesh.diag.nc')"
   ]
  },
  {
   "cell_type": "markdown",
   "id": "radical-terrorism",
   "metadata": {},
   "source": [
    "## Extract transport through straights\n",
    "\n",
    "Extraction and computation of volume transports are done with the transport routines from the pyfesom2 module (https://github.com/FESOM/pyfesom2/blob/master/notebooks/transports.ipynb)."
   ]
  },
  {
   "cell_type": "markdown",
   "id": "sacred-designation",
   "metadata": {},
   "source": [
    "### Barents Sea Opening"
   ]
  },
  {
   "cell_type": "code",
   "execution_count": 5,
   "id": "dimensional-exclusive",
   "metadata": {},
   "outputs": [
    {
     "name": "stdout",
     "output_type": "stream",
     "text": [
      "Starting computation...\n",
      "\n",
      "Your section:  BSO : Start:  19.999 °E  74.5 °N  End:  19.999 °E  70.08 °N\n",
      "\n",
      "Converting grid cells to Polygons... (If this takes very long try to reduce the add_extent parameter)\n"
     ]
    },
    {
     "data": {
      "application/vnd.jupyter.widget-view+json": {
       "model_id": "05e3fb763ce1484e9e789c3f4f4a0068",
       "version_major": 2,
       "version_minor": 0
      },
      "text/plain": [
       "  0%|          | 0/76 [00:00<?, ?it/s]"
      ]
     },
     "metadata": {},
     "output_type": "display_data"
    },
    {
     "name": "stdout",
     "output_type": "stream",
     "text": [
      "Looking for intersected grid cells...\n"
     ]
    },
    {
     "data": {
      "application/vnd.jupyter.widget-view+json": {
       "model_id": "30beb27b68d240d3ab1106875604c702",
       "version_major": 2,
       "version_minor": 0
      },
      "text/plain": [
       "  0%|          | 0/76 [00:00<?, ?it/s]"
      ]
     },
     "metadata": {},
     "output_type": "display_data"
    },
    {
     "name": "stdout",
     "output_type": "stream",
     "text": [
      "Loading the data into memory...\n",
      "[########################################] | 100% Completed |  4min 15.3s\n",
      "\n",
      " Done!\n"
     ]
    }
   ],
   "source": [
    "transport_BSO, section_BSO = pf.cross_section_transport('BSO',                                                          # select a section from the presets or [lon1, lon2, lat1, lat2]\n",
    "                                                mesh=mesh,                                                 # mesh\n",
    "                                                data_path='/work/ba1138/a270170/03_DATA/awicm3-v3.0/DECK/HIST/fesom/',   # directory of the u, v, (T, S, uice, vice, m_ice, a_ice) files\n",
    "                                                mesh_diag=mesh_diag,                                            # mesh_diag\n",
    "                                                years=np.arange(1985,2014),                                     # years to compute\n",
    "                                                use_great_circle=False,                                  # compute the section as a great circle\n",
    "                                                how='ori',                                               # 'ori' do not apply mean, 'mean' apply time mean\n",
    "                                                add_TS=False,                                            # add temperature and salinity to the section\n",
    "                                                add_extent=1,                                             # the extent to look for gridcells nerby the section, choose large for low resolutions\n",
    "                                                n_points=1000                                          # number of waypoints between the start and end of the section\n",
    "                                               )"
   ]
  },
  {
   "cell_type": "markdown",
   "id": "active-transition",
   "metadata": {},
   "source": [
    "### Fram Strait"
   ]
  },
  {
   "cell_type": "code",
   "execution_count": 6,
   "id": "rolled-island",
   "metadata": {},
   "outputs": [
    {
     "name": "stdout",
     "output_type": "stream",
     "text": [
      "Starting computation...\n",
      "\n",
      "Your section:  not specified : Start:  -20 °E  79.7 °N  End:  13 °E  79.7 °N\n",
      "\n",
      "Converting grid cells to Polygons... (If this takes very long try to reduce the add_extent parameter)\n"
     ]
    },
    {
     "name": "stderr",
     "output_type": "stream",
     "text": [
      "/mnt/lustre02/work/ba1138/a270170/miniconda3/pyfesom2/pyfesom2/transport.py:275: UserWarning: The extend added to the box is small, this might lead to errors when using low resolution meshes\n",
      "  warnings.warn(\n"
     ]
    },
    {
     "data": {
      "application/vnd.jupyter.widget-view+json": {
       "model_id": "e9f18b260a954a77bb4f32014ce107a9",
       "version_major": 2,
       "version_minor": 0
      },
      "text/plain": [
       "  0%|          | 0/190 [00:00<?, ?it/s]"
      ]
     },
     "metadata": {},
     "output_type": "display_data"
    },
    {
     "name": "stdout",
     "output_type": "stream",
     "text": [
      "Looking for intersected grid cells...\n"
     ]
    },
    {
     "data": {
      "application/vnd.jupyter.widget-view+json": {
       "model_id": "fd0c4eb9ce9e4cf6b1da9165050d1ed7",
       "version_major": 2,
       "version_minor": 0
      },
      "text/plain": [
       "  0%|          | 0/190 [00:00<?, ?it/s]"
      ]
     },
     "metadata": {},
     "output_type": "display_data"
    },
    {
     "name": "stdout",
     "output_type": "stream",
     "text": [
      "Loading the data into memory...\n",
      "[########################################] | 100% Completed |  2min 56.3s\n",
      "[########################################] | 100% Completed |  2min 56.4s\n",
      "\n",
      " Done!\n"
     ]
    }
   ],
   "source": [
    "transport_FS, section_FS = pf.cross_section_transport([-20,13,79.7,79.7],                                                          # select a section from the presets or [lon1, lon2, lat1, lat2]\n",
    "                                                mesh=mesh,                                                 # mesh\n",
    "                                                data_path='/work/ba1138/a270170/03_DATA/awicm3-v3.0/DECK/HIST/fesom/',   # directory of the u, v, (T, S, uice, vice, m_ice, a_ice) files\n",
    "                                                mesh_diag=mesh_diag,                                            # mesh_diag\n",
    "                                                years=np.arange(1985,2014),                                     # years to compute\n",
    "                                                use_great_circle=False,                                  # compute the section as a great circle\n",
    "                                                how='ori',                                               # 'ori' do not apply mean, 'mean' apply time mean\n",
    "                                                add_TS=False,                                            # add temperature and salinity to the section\n",
    "                                                add_extent=0.5,                                             # the extent to look for gridcells nerby the section, choose large for low resolutions\n",
    "                                                n_points=1000                                          # number of waypoints between the start and end of the section\n",
    "                                               )"
   ]
  },
  {
   "cell_type": "markdown",
   "id": "integral-sessions",
   "metadata": {},
   "source": [
    "### Bering Strait"
   ]
  },
  {
   "cell_type": "code",
   "execution_count": 7,
   "id": "unavailable-egyptian",
   "metadata": {},
   "outputs": [
    {
     "name": "stdout",
     "output_type": "stream",
     "text": [
      "Starting computation...\n",
      "\n",
      "Your section:  not specified : Start:  -179 °E  68 °N  End:  -166 °E  68 °N\n",
      "\n",
      "Converting grid cells to Polygons... (If this takes very long try to reduce the add_extent parameter)\n"
     ]
    },
    {
     "name": "stderr",
     "output_type": "stream",
     "text": [
      "/mnt/lustre02/work/ba1138/a270170/miniconda3/pyfesom2/pyfesom2/transport.py:275: UserWarning: The extend added to the box is small, this might lead to errors when using low resolution meshes\n",
      "  warnings.warn(\n"
     ]
    },
    {
     "data": {
      "application/vnd.jupyter.widget-view+json": {
       "model_id": "dccefaac8ade4aedb5425c9b57a79b6c",
       "version_major": 2,
       "version_minor": 0
      },
      "text/plain": [
       "  0%|          | 0/74 [00:00<?, ?it/s]"
      ]
     },
     "metadata": {},
     "output_type": "display_data"
    },
    {
     "name": "stdout",
     "output_type": "stream",
     "text": [
      "Looking for intersected grid cells...\n"
     ]
    },
    {
     "data": {
      "application/vnd.jupyter.widget-view+json": {
       "model_id": "75ece75b7e7d41aeb20ab4c6f9a65f87",
       "version_major": 2,
       "version_minor": 0
      },
      "text/plain": [
       "  0%|          | 0/74 [00:00<?, ?it/s]"
      ]
     },
     "metadata": {},
     "output_type": "display_data"
    },
    {
     "name": "stdout",
     "output_type": "stream",
     "text": [
      "Loading the data into memory...\n",
      "[########################################] | 100% Completed |  3min  8.0s\n",
      "[########################################] | 100% Completed |  3min  8.1s\n",
      "[########################################] | 100% Completed |  3min  8.1s\n",
      "\n",
      " Done!\n"
     ]
    }
   ],
   "source": [
    "transport_BS, section_BS = pf.cross_section_transport([-179,-166,68,68],                                                          # select a section from the presets or [lon1, lon2, lat1, lat2]\n",
    "                                                mesh=mesh,                                                 # mesh\n",
    "                                                data_path='/work/ba1138/a270170/03_DATA/awicm3-v3.0/DECK/HIST/fesom/',   # directory of the u, v, (T, S, uice, vice, m_ice, a_ice) files\n",
    "                                                mesh_diag=mesh_diag,                                            # mesh_diag\n",
    "                                                years=np.arange(1985,2014),                                     # years to compute\n",
    "                                                use_great_circle=False,                                  # compute the section as a great circle\n",
    "                                                how='ori',                                               # 'ori' do not apply mean, 'mean' apply time mean\n",
    "                                                add_TS=False,                                            # add temperature and salinity to the section\n",
    "                                                add_extent=0.3,                                             # the extent to look for gridcells nerby the section, choose large for low resolutions\n",
    "                                                n_points=1000                                          # number of waypoints between the start and end of the section\n",
    "                                               )"
   ]
  },
  {
   "cell_type": "markdown",
   "id": "sealed-syndication",
   "metadata": {},
   "source": [
    "### Davis Strait"
   ]
  },
  {
   "cell_type": "code",
   "execution_count": 8,
   "id": "controlled-refrigerator",
   "metadata": {},
   "outputs": [
    {
     "name": "stdout",
     "output_type": "stream",
     "text": [
      "Starting computation...\n",
      "\n",
      "Your section:  not specified : Start:  -51 °E  66.3 °N  End:  -63 °E  66.3 °N\n",
      "\n",
      "Converting grid cells to Polygons... (If this takes very long try to reduce the add_extent parameter)\n"
     ]
    },
    {
     "name": "stderr",
     "output_type": "stream",
     "text": [
      "/mnt/lustre02/work/ba1138/a270170/miniconda3/pyfesom2/pyfesom2/transport.py:275: UserWarning: The extend added to the box is small, this might lead to errors when using low resolution meshes\n",
      "  warnings.warn(\n"
     ]
    },
    {
     "data": {
      "application/vnd.jupyter.widget-view+json": {
       "model_id": "136c809959db47e285a949a15e2bca2a",
       "version_major": 2,
       "version_minor": 0
      },
      "text/plain": [
       "  0%|          | 0/56 [00:00<?, ?it/s]"
      ]
     },
     "metadata": {},
     "output_type": "display_data"
    },
    {
     "name": "stdout",
     "output_type": "stream",
     "text": [
      "Looking for intersected grid cells...\n"
     ]
    },
    {
     "data": {
      "application/vnd.jupyter.widget-view+json": {
       "model_id": "a1c5f3ba0ea84abab23dd29ad483b527",
       "version_major": 2,
       "version_minor": 0
      },
      "text/plain": [
       "  0%|          | 0/56 [00:00<?, ?it/s]"
      ]
     },
     "metadata": {},
     "output_type": "display_data"
    },
    {
     "name": "stdout",
     "output_type": "stream",
     "text": [
      "Loading the data into memory...\n",
      "[########################################] | 100% Completed |  3min 59.1s\n",
      "[########################################] | 100% Completed |  3min 59.2s\n",
      "[########################################] | 100% Completed |  3min 59.3s\n",
      "[########################################] | 100% Completed |  3min 59.4s\n",
      "\n",
      " Done!\n"
     ]
    }
   ],
   "source": [
    "transport_DS, section_DS = pf.cross_section_transport([-51,-63,66.3,66.3],                                                          # select a section from the presets or [lon1, lon2, lat1, lat2]\n",
    "                                                mesh=mesh,                                                 # mesh\n",
    "                                                data_path='/work/ba1138/a270170/03_DATA/awicm3-v3.0/DECK/HIST/fesom/',   # directory of the u, v, (T, S, uice, vice, m_ice, a_ice) files\n",
    "                                                mesh_diag=mesh_diag,                                            # mesh_diag\n",
    "                                                years=np.arange(1985,2014),                                     # years to compute\n",
    "                                                use_great_circle=False,                                  # compute the section as a great circle\n",
    "                                                how='ori',                                               # 'ori' do not apply mean, 'mean' apply time mean\n",
    "                                                add_TS=False,                                            # add temperature and salinity to the section\n",
    "                                                add_extent=0.3,                                             # the extent to look for gridcells nerby the section, choose large for low resolutions\n",
    "                                                n_points=1000                                          # number of waypoints between the start and end of the section\n",
    "                                               )"
   ]
  },
  {
   "cell_type": "markdown",
   "id": "adaptive-original",
   "metadata": {},
   "source": [
    "### Nares Strait"
   ]
  },
  {
   "cell_type": "code",
   "execution_count": 9,
   "id": "informal-disposition",
   "metadata": {},
   "outputs": [
    {
     "name": "stdout",
     "output_type": "stream",
     "text": [
      "Starting computation...\n",
      "\n",
      "Your section:  not specified : Start:  -70 °E  83 °N  End:  -45 °E  83 °N\n",
      "\n",
      "Converting grid cells to Polygons... (If this takes very long try to reduce the add_extent parameter)\n"
     ]
    },
    {
     "name": "stderr",
     "output_type": "stream",
     "text": [
      "/mnt/lustre02/work/ba1138/a270170/miniconda3/pyfesom2/pyfesom2/transport.py:275: UserWarning: The extend added to the box is small, this might lead to errors when using low resolution meshes\n",
      "  warnings.warn(\n"
     ]
    },
    {
     "data": {
      "application/vnd.jupyter.widget-view+json": {
       "model_id": "57658244aa7649a7a7afe85c398c8383",
       "version_major": 2,
       "version_minor": 0
      },
      "text/plain": [
       "  0%|          | 0/57 [00:00<?, ?it/s]"
      ]
     },
     "metadata": {},
     "output_type": "display_data"
    },
    {
     "name": "stdout",
     "output_type": "stream",
     "text": [
      "Looking for intersected grid cells...\n"
     ]
    },
    {
     "data": {
      "application/vnd.jupyter.widget-view+json": {
       "model_id": "331179be49ec4ea2865e6a26e38e88a8",
       "version_major": 2,
       "version_minor": 0
      },
      "text/plain": [
       "  0%|          | 0/57 [00:00<?, ?it/s]"
      ]
     },
     "metadata": {},
     "output_type": "display_data"
    },
    {
     "name": "stdout",
     "output_type": "stream",
     "text": [
      "Loading the data into memory...\n",
      "[########################################] | 100% Completed |  2min  5.9s\n",
      "[########################################] | 100% Completed |  2min  6.0s\n",
      "[########################################] | 100% Completed |  2min  6.0s\n",
      "[########################################] | 100% Completed |  2min  6.1s\n",
      "[########################################] | 100% Completed |  2min  6.1s\n",
      "\n",
      " Done!\n"
     ]
    }
   ],
   "source": [
    "transport_NS, section_NS = pf.cross_section_transport([-70,-45,83,83],                                                          # select a section from the presets or [lon1, lon2, lat1, lat2]\n",
    "                                                mesh=mesh,                                                 # mesh\n",
    "                                                data_path='/work/ba1138/a270170/03_DATA/awicm3-v3.0/DECK/HIST/fesom/',   # directory of the u, v, (T, S, uice, vice, m_ice, a_ice) files\n",
    "                                                mesh_diag=mesh_diag,                                            # mesh_diag\n",
    "                                                years=np.arange(1985,2014),                                     # years to compute\n",
    "                                                use_great_circle=False,                                  # compute the section as a great circle\n",
    "                                                how='ori',                                               # 'ori' do not apply mean, 'mean' apply time mean\n",
    "                                                add_TS=False,                                            # add temperature and salinity to the section\n",
    "                                                add_extent=0.3,                                             # the extent to look for gridcells nerby the section, choose large for low resolutions\n",
    "                                                n_points=1000                                          # number of waypoints between the start and end of the section\n",
    "                                               )"
   ]
  },
  {
   "cell_type": "markdown",
   "id": "surrounded-direction",
   "metadata": {},
   "source": [
    "### Drake Passage"
   ]
  },
  {
   "cell_type": "code",
   "execution_count": 10,
   "id": "mental-slovak",
   "metadata": {},
   "outputs": [
    {
     "name": "stdout",
     "output_type": "stream",
     "text": [
      "Starting computation...\n",
      "\n",
      "Your section:  not specified : Start:  -65 °E  -55 °N  End:  -65 °E  -65.8 °N\n",
      "\n",
      "Converting grid cells to Polygons... (If this takes very long try to reduce the add_extent parameter)\n"
     ]
    },
    {
     "data": {
      "application/vnd.jupyter.widget-view+json": {
       "model_id": "2219c9c9893f4df2a085b395265098cd",
       "version_major": 2,
       "version_minor": 0
      },
      "text/plain": [
       "  0%|          | 0/326 [00:00<?, ?it/s]"
      ]
     },
     "metadata": {},
     "output_type": "display_data"
    },
    {
     "name": "stdout",
     "output_type": "stream",
     "text": [
      "Looking for intersected grid cells...\n"
     ]
    },
    {
     "data": {
      "application/vnd.jupyter.widget-view+json": {
       "model_id": "9b275731530b4f0f914564d1f7bbcb23",
       "version_major": 2,
       "version_minor": 0
      },
      "text/plain": [
       "  0%|          | 0/326 [00:00<?, ?it/s]"
      ]
     },
     "metadata": {},
     "output_type": "display_data"
    },
    {
     "name": "stdout",
     "output_type": "stream",
     "text": [
      "Loading the data into memory...\n",
      "[########################################] | 100% Completed |  3min 28.2s\n",
      "[########################################] | 100% Completed |  3min 28.3s\n",
      "[########################################] | 100% Completed |  3min 28.3s\n",
      "[########################################] | 100% Completed |  3min 28.4s\n",
      "[########################################] | 100% Completed |  3min 28.5s\n",
      "[########################################] | 100% Completed |  3min 28.5s\n",
      "\n",
      " Done!\n"
     ]
    }
   ],
   "source": [
    "transport_DP, section_DP = pf.cross_section_transport([-65,-65,-55,-65.8],                                                          # select a section from the presets or [lon1, lon2, lat1, lat2]\n",
    "                                                mesh=mesh,                                                 # mesh\n",
    "                                                data_path='/work/ba1138/a270170/03_DATA/awicm3-v3.0/DECK/HIST/fesom/',   # directory of the u, v, (T, S, uice, vice, m_ice, a_ice) files\n",
    "                                                mesh_diag=mesh_diag,                                            # mesh_diag\n",
    "                                                years=np.arange(1985,2014),                                     # years to compute\n",
    "                                                use_great_circle=False,                                  # compute the section as a great circle\n",
    "                                                how='ori',                                               # 'ori' do not apply mean, 'mean' apply time mean\n",
    "                                                add_TS=False,                                            # add temperature and salinity to the section\n",
    "                                                add_extent=2,                                             # the extent to look for gridcells nerby the section, choose large for low resolutions\n",
    "                                                n_points=1000                                          # number of waypoints between the start and end of the section\n",
    "                                               )"
   ]
  },
  {
   "cell_type": "markdown",
   "id": "functioning-custody",
   "metadata": {},
   "source": [
    "### Mozambique Channel 26°S"
   ]
  },
  {
   "cell_type": "code",
   "execution_count": 11,
   "id": "large-calgary",
   "metadata": {},
   "outputs": [
    {
     "name": "stdout",
     "output_type": "stream",
     "text": [
      "Starting computation...\n",
      "\n",
      "Your section:  not specified : Start:  33 °E  -26 °N  End:  46 °E  -26 °N\n",
      "\n",
      "Converting grid cells to Polygons... (If this takes very long try to reduce the add_extent parameter)\n"
     ]
    },
    {
     "data": {
      "application/vnd.jupyter.widget-view+json": {
       "model_id": "4b2f6132e76b49b1a9ff61f9ee00eda5",
       "version_major": 2,
       "version_minor": 0
      },
      "text/plain": [
       "  0%|          | 0/72 [00:00<?, ?it/s]"
      ]
     },
     "metadata": {},
     "output_type": "display_data"
    },
    {
     "name": "stdout",
     "output_type": "stream",
     "text": [
      "Looking for intersected grid cells...\n"
     ]
    },
    {
     "data": {
      "application/vnd.jupyter.widget-view+json": {
       "model_id": "ffd0db3cc3774078bb194d864f191311",
       "version_major": 2,
       "version_minor": 0
      },
      "text/plain": [
       "  0%|          | 0/72 [00:00<?, ?it/s]"
      ]
     },
     "metadata": {},
     "output_type": "display_data"
    },
    {
     "name": "stdout",
     "output_type": "stream",
     "text": [
      "Loading the data into memory...\n",
      "[########################################] | 100% Completed |  2min 12.2s\n",
      "[########################################] | 100% Completed |  2min 12.3s\n",
      "[########################################] | 100% Completed |  2min 12.3s\n",
      "[########################################] | 100% Completed |  2min 12.4s\n",
      "[########################################] | 100% Completed |  2min 12.4s\n",
      "[########################################] | 100% Completed |  2min 12.5s\n",
      "[########################################] | 100% Completed |  2min 12.5s\n",
      "\n",
      " Done!\n"
     ]
    }
   ],
   "source": [
    "transport_MC, section_MC = pf.cross_section_transport([33,46,-26,-26],                                                          # select a section from the presets or [lon1, lon2, lat1, lat2]\n",
    "                                                mesh=mesh,                                                 # mesh\n",
    "                                                data_path='/work/ba1138/a270170/03_DATA/awicm3-v3.0/DECK/HIST/fesom/',   # directory of the u, v, (T, S, uice, vice, m_ice, a_ice) files\n",
    "                                                mesh_diag=mesh_diag,                                            # mesh_diag\n",
    "                                                years=np.arange(1985,2014),                                     # years to compute\n",
    "                                                use_great_circle=False,                                  # compute the section as a great circle\n",
    "                                                how='ori',                                               # 'ori' do not apply mean, 'mean' apply time mean\n",
    "                                                add_TS=False,                                            # add temperature and salinity to the section\n",
    "                                                add_extent=1,                                             # the extent to look for gridcells nerby the section, choose large for low resolutions\n",
    "                                                n_points=1000                                          # number of waypoints between the start and end of the section\n",
    "                                               )"
   ]
  },
  {
   "cell_type": "markdown",
   "id": "sensitive-frame",
   "metadata": {},
   "source": [
    "## Compute net transport across sections"
   ]
  },
  {
   "cell_type": "code",
   "execution_count": 12,
   "id": "iraqi-subsection",
   "metadata": {},
   "outputs": [],
   "source": [
    "net_transport_BSO = np.around(np.mean(transport_BSO.transport_across.sum(dim=('elem','nz1')) * 1e-6), 2)\n",
    "net_transport_FS = np.around(np.mean(transport_FS.transport_across.sum(dim=('elem','nz1')) * 1e-6),2)\n",
    "net_transport_BS = np.around(np.mean(transport_BS.transport_across.sum(dim=('elem','nz1')) * 1e-6),2)\n",
    "net_transport_DS = np.around(np.mean(transport_DS.transport_across.sum(dim=('elem','nz1')) * 1e-6),2)\n",
    "net_transport_NS = np.around(np.mean(transport_NS.transport_across.sum(dim=('elem','nz1')) * 1e-6),2)\n",
    "net_transport_DP = np.around(np.mean(transport_DP.transport_across.sum(dim=('elem','nz1')) * 1e-6),2)\n",
    "net_transport_MC = np.around(np.mean(transport_MC.transport_across.sum(dim=('elem','nz1')) * 1e-6),2)"
   ]
  },
  {
   "cell_type": "markdown",
   "id": "widespread-photography",
   "metadata": {},
   "source": [
    "# Save historical transport data"
   ]
  },
  {
   "cell_type": "markdown",
   "id": "athletic-demonstration",
   "metadata": {},
   "source": [
    "Saving AWICM3 mean transport through the major strait, for the Historical run."
   ]
  },
  {
   "cell_type": "code",
   "execution_count": 18,
   "id": "charged-interim",
   "metadata": {},
   "outputs": [],
   "source": [
    "\n",
    "np.savetxt(\"transports_awicm3_historical.txt\", np.array([net_transport_FS.values, net_transport_DS.values, \n",
    "                                                         net_transport_BS.values, net_transport_NS.values, \n",
    "                                                         net_transport_BSO.values, net_transport_DP.values, \n",
    "                                                         net_transport_MC.values]).T, \n",
    "           header=\"transp_hist_FS transp_hist_DS transp_hist_BS transp_hist_NS transp_hist_BSO transp_hist_DP transp_hist_MC\")\n"
   ]
  },
  {
   "cell_type": "markdown",
   "id": "infrared-diagnosis",
   "metadata": {},
   "source": [
    "\n",
    "\n",
    "\n",
    "## Quick check: comparative table (AWICM3 versus observational studies)"
   ]
  },
  {
   "cell_type": "code",
   "execution_count": 47,
   "id": "contained-finland",
   "metadata": {},
   "outputs": [
    {
     "data": {
      "text/html": [
       "<table>\n",
       "<tbody>\n",
       "<tr><td>Table 1. Annual mean net volume transports through major straits (Sv). AWICM estimates computed over 1985-2014. AWICM1 estimates are taken from Semmler et al., (2020).</td></tr>\n",
       "</tbody>\n",
       "</table>"
      ],
      "text/plain": [
       "<IPython.core.display.HTML object>"
      ]
     },
     "metadata": {},
     "output_type": "display_data"
    },
    {
     "data": {
      "text/html": [
       "<table>\n",
       "<tbody>\n",
       "<tr><td>Transport (Sv)     </td><td>AWICM3 Historical</td><td>AWICM1 Historical</td><td>Observations             </td><td>References of observations                       </td></tr>\n",
       "<tr><td>Fram Strait        </td><td>-2.84            </td><td>-2.4             </td><td>-2 ± 2.7                 </td><td>Schauer et al. (2008)                            </td></tr>\n",
       "<tr><td>Davis Strait       </td><td>-0.48            </td><td>-0.6             </td><td>-1.6 ± 0.5               </td><td>Curry et al. (2014)                              </td></tr>\n",
       "<tr><td>Bering Strait      </td><td>1.18             </td><td>1.3              </td><td>0.81                     </td><td>Roach et al. (1995), Woodgate et al. (2018)      </td></tr>\n",
       "<tr><td>Nares Strait       </td><td>-0.34            </td><td>NA               </td><td>-0.57 ± 0.09, -0.8 ± 0.3 </td><td>Münchow and Melling (2008), Münchow et al. (2006)</td></tr>\n",
       "<tr><td>Barents Sea Opening</td><td>2.42             </td><td>1.7              </td><td>2                        </td><td>Smedsrud et al. (2010)                           </td></tr>\n",
       "<tr><td>Drake Passage      </td><td>148.36           </td><td>169.2            </td><td>136.7 ± 6.9, 173.3 ± 10.7</td><td>Meredith et al. (2011), Donohue et al. (2016)    </td></tr>\n",
       "<tr><td>Mozambique Channel </td><td>(26°S) -19.65    </td><td>-11.7            </td><td>(17°S) -16 ± 8.9         </td><td>Ridderinkhof et al. (2010)                       </td></tr>\n",
       "</tbody>\n",
       "</table>"
      ],
      "text/plain": [
       "<IPython.core.display.HTML object>"
      ]
     },
     "metadata": {},
     "output_type": "display_data"
    }
   ],
   "source": [
    "from IPython.display import HTML, display\n",
    "import tabulate\n",
    "title = [[\"Table 1. Annual mean net volume transports through major straits (Sv). AWICM estimates computed over 1985-2014. AWICM1 estimates are taken from Semmler et al., (2020).\"]]\n",
    "\n",
    "table = [[\"Transport (Sv)\",\"AWICM3 Historical\",\"AWICM1 Historical\",\"Observations\",\"References of observations\"],\n",
    "         [\"Fram Strait\",net_transport_FS.values,\"-2.4\",\"-2 ± 2.7\", \"Schauer et al. (2008)\"],\n",
    "         [\"Davis Strait\",net_transport_DS.values,\"-0.6\",\"-1.6 ± 0.5\", \" Curry et al. (2014)\"],\n",
    "         [\"Bering Strait\",net_transport_BS.values,\"1.3\",\"0.81\", \"Roach et al. (1995), Woodgate et al. (2018)\"],\n",
    "         [\"Nares Strait\",net_transport_NS.values,\"NA\",\"-0.57 ± 0.09, -0.8 ± 0.3\", \"Münchow and Melling (2008), Münchow et al. (2006)\"],\n",
    "         [\"Barents Sea Opening\",net_transport_BSO.values,\"1.7\",\"2\", \"Smedsrud et al. (2010)\"],\n",
    "         [\"Drake Passage\",net_transport_DP.values,\"169.2\",\"136.7 ± 6.9, 173.3 ± 10.7\", \"Meredith et al. (2011), Donohue et al. (2016)\"],\n",
    "         [\"Mozambique Channel\",\"(26°S) \"+str(net_transport_MC.values),\"-11.7\",\"(17°S) -16 ± 8.9\", \"Ridderinkhof et al. (2010)\"]]\n",
    "         #[\"Indonezian Throughflow\",\"\",\"-12.4\",\"-15\", \"Gordon et al. (2010)\"]]\n",
    "        # [\"Florida Bahamas Strait\",\"\",\"37.9\",\"31.6\", \"McDonagh et al. (2015)\"]]\n",
    "\n",
    "display(HTML(tabulate.tabulate(title, tablefmt='html')))\n",
    "\n",
    "display(HTML(tabulate.tabulate(table, tablefmt='html')))"
   ]
  }
 ],
 "metadata": {
  "kernelspec": {
   "display_name": "pyfesom2",
   "language": "python",
   "name": "pyfesom2"
  },
  "language_info": {
   "codemirror_mode": {
    "name": "ipython",
    "version": 3
   },
   "file_extension": ".py",
   "mimetype": "text/x-python",
   "name": "python",
   "nbconvert_exporter": "python",
   "pygments_lexer": "ipython3",
   "version": "3.8.6"
  }
 },
 "nbformat": 4,
 "nbformat_minor": 5
}
