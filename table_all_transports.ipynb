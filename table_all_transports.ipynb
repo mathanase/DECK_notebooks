{
 "cells": [
  {
   "cell_type": "markdown",
   "id": "quick-citizenship",
   "metadata": {},
   "source": [
    "# Printing tables of volume transports through major straits"
   ]
  },
  {
   "cell_type": "markdown",
   "id": "married-andorra",
   "metadata": {},
   "source": [
    "This notebook prints tables of estimates of mean annual net volume transports through the major straits and passages, computed from the fesom2 native grid.\n",
    "Values from AWICM-1, observational studies and CMIP MMM are recalled for comparison.\n",
    "\n",
    "Positive values are eastward/northward, negative values are westward/southward."
   ]
  },
  {
   "cell_type": "markdown",
   "id": "bibliographic-prior",
   "metadata": {},
   "source": [
    "## Initialisation and module loading"
   ]
  },
  {
   "cell_type": "code",
   "execution_count": 6,
   "id": "respiratory-shock",
   "metadata": {},
   "outputs": [],
   "source": [
    "import pymap3d as pm\n",
    "import pyfesom2 as pf\n",
    "import numpy as np\n",
    "from IPython.display import HTML, display\n",
    "import tabulate"
   ]
  },
  {
   "cell_type": "markdown",
   "id": "respiratory-cotton",
   "metadata": {},
   "source": [
    "## Load AWICM3 mean annual net transports "
   ]
  },
  {
   "cell_type": "markdown",
   "id": "recovered-healthcare",
   "metadata": {},
   "source": [
    "Loading historical transports"
   ]
  },
  {
   "cell_type": "code",
   "execution_count": 4,
   "id": "wireless-commitment",
   "metadata": {},
   "outputs": [],
   "source": [
    "FS_HIST, DS_HIST, BS_HIST, NS_HIST, BSO_HIST, DP_HIST, MC_HIST = np.loadtxt(\"transports_awicm3_historical.txt\", unpack=True)\n"
   ]
  },
  {
   "cell_type": "markdown",
   "id": "improving-peoples",
   "metadata": {},
   "source": [
    "Loading transports at 4xCO2"
   ]
  },
  {
   "cell_type": "code",
   "execution_count": 5,
   "id": "commercial-twenty",
   "metadata": {},
   "outputs": [],
   "source": [
    "FS_4XCO, DS_4XCO, BS_4XCO, NS_4XCO, BSO_4XCO, DP_4XCO, MC_4XCO = np.loadtxt(\"transports_awicm3_4XCO2.txt\", unpack=True)\n"
   ]
  },
  {
   "cell_type": "markdown",
   "id": "infrared-diagnosis",
   "metadata": {},
   "source": [
    "\n",
    "\n",
    "\n",
    "## Print comparative tables "
   ]
  },
  {
   "cell_type": "markdown",
   "id": "alleged-store",
   "metadata": {},
   "source": [
    "### AWICM3 versus AWICM1 historical, compared to observations"
   ]
  },
  {
   "cell_type": "markdown",
   "id": "sporting-forty",
   "metadata": {},
   "source": [
    "NB: AWICM1 estimates are taken from Semmler et al., (2020)."
   ]
  },
  {
   "cell_type": "code",
   "execution_count": 17,
   "id": "contained-finland",
   "metadata": {},
   "outputs": [
    {
     "data": {
      "text/html": [
       "<table>\n",
       "<tbody>\n",
       "<tr><td>Table 1. Annual mean net volume transports through major straits (Sv) compared to observations. Historical estimates computed over 1985-2014.</td></tr>\n",
       "</tbody>\n",
       "</table>"
      ],
      "text/plain": [
       "<IPython.core.display.HTML object>"
      ]
     },
     "metadata": {},
     "output_type": "display_data"
    },
    {
     "data": {
      "text/html": [
       "<table>\n",
       "<tbody>\n",
       "<tr><td>Transport (Sv)     </td><td>AWICM3 Historical</td><td>AWICM1 Historical</td><td>Observations             </td><td>References of observations                       </td></tr>\n",
       "<tr><td>Fram Strait        </td><td>-2.84            </td><td>-2.4             </td><td>-2 ± 2.7                 </td><td>Schauer et al. (2008)                            </td></tr>\n",
       "<tr><td>Davis Strait       </td><td>-0.48            </td><td>-0.6             </td><td>-1.6 ± 0.5               </td><td>Curry et al. (2014)                              </td></tr>\n",
       "<tr><td>Bering Strait      </td><td>1.18             </td><td>1.3              </td><td>0.81                     </td><td>Roach et al. (1995), Woodgate et al. (2018)      </td></tr>\n",
       "<tr><td>Nares Strait       </td><td>-0.34            </td><td>NA               </td><td>-0.57 ± 0.09, -0.8 ± 0.3 </td><td>Münchow and Melling (2008), Münchow et al. (2006)</td></tr>\n",
       "<tr><td>Barents Sea Opening</td><td>2.42             </td><td>1.7              </td><td>2                        </td><td>Smedsrud et al. (2010)                           </td></tr>\n",
       "<tr><td>Drake Passage      </td><td>148.36           </td><td>169.2            </td><td>136.7 ± 6.9, 173.3 ± 10.7</td><td>Meredith et al. (2011), Donohue et al. (2016)    </td></tr>\n",
       "<tr><td>Mozambique Channel </td><td>(26°S) -19.65    </td><td>-11.7            </td><td>(17°S) -16 ± 8.9         </td><td>Ridderinkhof et al. (2010)                       </td></tr>\n",
       "</tbody>\n",
       "</table>"
      ],
      "text/plain": [
       "<IPython.core.display.HTML object>"
      ]
     },
     "metadata": {},
     "output_type": "display_data"
    }
   ],
   "source": [
    "title1 = [[\"Table 1. Annual mean net volume transports through major straits (Sv) compared to observations. Historical estimates computed over 1985-2014.\"]]\n",
    "\n",
    "table1 = [[\"Transport (Sv)\",\"AWICM3 Historical\",\"AWICM1 Historical\",\"Observations\",\"References of observations\"],\n",
    "         [\"Fram Strait\",FS_HIST,\"-2.4\",\"-2 ± 2.7\", \"Schauer et al. (2008)\"],\n",
    "         [\"Davis Strait\",DS_HIST,\"-0.6\",\"-1.6 ± 0.5\", \" Curry et al. (2014)\"],\n",
    "         [\"Bering Strait\",BS_HIST,\"1.3\",\"0.81\", \"Roach et al. (1995), Woodgate et al. (2018)\"],\n",
    "         [\"Nares Strait\",NS_HIST,\"NA\",\"-0.57 ± 0.09, -0.8 ± 0.3\", \"Münchow and Melling (2008), Münchow et al. (2006)\"],\n",
    "         [\"Barents Sea Opening\",BSO_HIST,\"1.7\",\"2\", \"Smedsrud et al. (2010)\"],\n",
    "         [\"Drake Passage\",DP_HIST,\"169.2\",\"136.7 ± 6.9, 173.3 ± 10.7\", \"Meredith et al. (2011), Donohue et al. (2016)\"],\n",
    "         [\"Mozambique Channel\",\"(26°S) \"+str(MC_HIST),\"-11.7\",\"(17°S) -16 ± 8.9\", \"Ridderinkhof et al. (2010)\"]]\n",
    "         #[\"Indonezian Throughflow\",\"\",\"-12.4\",\"-15\", \"Gordon et al. (2010)\"]]\n",
    "        # [\"Florida Bahamas Strait\",\"\",\"37.9\",\"31.6\", \"McDonagh et al. (2015)\"]]\n",
    "\n",
    "display(HTML(tabulate.tabulate(title1, tablefmt='html')))\n",
    "\n",
    "display(HTML(tabulate.tabulate(table1, tablefmt='html')))"
   ]
  },
  {
   "cell_type": "markdown",
   "id": "nominated-burner",
   "metadata": {},
   "source": [
    "### Adding CMIP5 / CMIP6 estimates"
   ]
  },
  {
   "cell_type": "code",
   "execution_count": 18,
   "id": "growing-collective",
   "metadata": {},
   "outputs": [
    {
     "data": {
      "text/html": [
       "<table>\n",
       "<tbody>\n",
       "<tr><td>Table 2. Annual mean net volume transports through major straits (Sv) compared to CMIP MMM. Historical estimates computed over 1985-2014.</td></tr>\n",
       "</tbody>\n",
       "</table>"
      ],
      "text/plain": [
       "<IPython.core.display.HTML object>"
      ]
     },
     "metadata": {},
     "output_type": "display_data"
    },
    {
     "data": {
      "text/html": [
       "<table>\n",
       "<tbody>\n",
       "<tr><td>Transport (Sv)     </td><td>AWICM3 Historical</td><td>AWICM1 Historical</td><td>CMIP5/CMIP6 MMM    </td><td>References of CMIP estimates</td></tr>\n",
       "<tr><td>Fram Strait        </td><td>-2.84            </td><td>-2.4             </td><td>                   </td><td>                            </td></tr>\n",
       "<tr><td>Davis Strait       </td><td>-0.48            </td><td>-0.6             </td><td>                   </td><td>                            </td></tr>\n",
       "<tr><td>Bering Strait      </td><td>1.18             </td><td>1.3              </td><td>                   </td><td>                            </td></tr>\n",
       "<tr><td>Nares Strait       </td><td>-0.34            </td><td>NA               </td><td>                   </td><td>                            </td></tr>\n",
       "<tr><td>Barents Sea Opening</td><td>2.42             </td><td>1.7              </td><td>                   </td><td>                            </td></tr>\n",
       "<tr><td>Drake Passage      </td><td>148.36           </td><td>169.2            </td><td>148 ± 38 / 137 ± 37</td><td>Beadling et al. (2020)      </td></tr>\n",
       "<tr><td>Mozambique Channel </td><td>(26°S) -19.65    </td><td>-11.7            </td><td>                   </td><td>                            </td></tr>\n",
       "</tbody>\n",
       "</table>"
      ],
      "text/plain": [
       "<IPython.core.display.HTML object>"
      ]
     },
     "metadata": {},
     "output_type": "display_data"
    }
   ],
   "source": [
    "title2 = [[\"Table 2. Annual mean net volume transports through major straits (Sv) compared to CMIP MMM. Historical estimates computed over 1985-2014.\"]]\n",
    "\n",
    "table2 = [[\"Transport (Sv)\",\"AWICM3 Historical\",\"AWICM1 Historical\",\"CMIP5/CMIP6 MMM\",\"References of CMIP estimates\"],\n",
    "         [\"Fram Strait\",FS_HIST,\"-2.4\",\" \", \" \"],\n",
    "         [\"Davis Strait\",DS_HIST,\"-0.6\",\" \", \" \"],\n",
    "         [\"Bering Strait\",BS_HIST,\"1.3\",\" \", \" \"],\n",
    "         [\"Nares Strait\",NS_HIST,\"NA\",\" \", \" \"],\n",
    "         [\"Barents Sea Opening\",BSO_HIST,\"1.7\",\" \", \" \"],\n",
    "         [\"Drake Passage\",DP_HIST,\"169.2\",\"148 ± 38 / 137 ± 37\", \"Beadling et al. (2020)\"],\n",
    "         [\"Mozambique Channel\",\"(26°S) \"+str(MC_HIST),\"-11.7\",\" \", \" \"]]\n",
    "         #[\"Indonezian Throughflow\",\"\",\"-12.4\",\"-15\", \"Gordon et al. (2010)\"]]\n",
    "        # [\"Florida Bahamas Strait\",\"\",\"37.9\",\"31.6\", \"McDonagh et al. (2015)\"]]\n",
    "\n",
    "display(HTML(tabulate.tabulate(title2, tablefmt='html')))\n",
    "\n",
    "display(HTML(tabulate.tabulate(table2, tablefmt='html')))"
   ]
  },
  {
   "cell_type": "markdown",
   "id": "aggregate-indian",
   "metadata": {},
   "source": [
    "### AWICM3 summary (without references)"
   ]
  },
  {
   "cell_type": "markdown",
   "id": "recovered-karma",
   "metadata": {},
   "source": [
    "See Tables 2 and 3 for references of observations and CMIP estimates"
   ]
  },
  {
   "cell_type": "code",
   "execution_count": 19,
   "id": "bibliographic-adobe",
   "metadata": {},
   "outputs": [
    {
     "data": {
      "text/html": [
       "<table>\n",
       "<tbody>\n",
       "<tr><td>Table 3. Annual mean net volume transports through major straits (Sv). Historical estimates computed over 1985-2014.</td></tr>\n",
       "</tbody>\n",
       "</table>"
      ],
      "text/plain": [
       "<IPython.core.display.HTML object>"
      ]
     },
     "metadata": {},
     "output_type": "display_data"
    },
    {
     "data": {
      "text/html": [
       "<table>\n",
       "<tbody>\n",
       "<tr><td>Transport (Sv)     </td><td>AWICM3 Historical</td><td>AWICM3 4xCO2 </td><td>Observations             </td><td>CMIP5/CMIP6 MMM    </td></tr>\n",
       "<tr><td>Fram Strait        </td><td>-2.84            </td><td>-3.29        </td><td>-2 ± 2.7                 </td><td>                   </td></tr>\n",
       "<tr><td>Davis Strait       </td><td>-0.48            </td><td>-0.31        </td><td>-1.6 ± 0.5               </td><td>                   </td></tr>\n",
       "<tr><td>Bering Strait      </td><td>1.18             </td><td>0.77         </td><td>0.81                     </td><td>                   </td></tr>\n",
       "<tr><td>Nares Strait       </td><td>-0.34            </td><td>-0.25        </td><td>-0.57 ± 0.09, -0.8 ± 0.3 </td><td>                   </td></tr>\n",
       "<tr><td>Barents Sea Opening</td><td>2.42             </td><td>3.03         </td><td>2                        </td><td>                   </td></tr>\n",
       "<tr><td>Drake Passage      </td><td>148.36           </td><td>149.86       </td><td>136.7 ± 6.9, 173.3 ± 10.7</td><td>148 ± 38 / 137 ± 37</td></tr>\n",
       "<tr><td>Mozambique Channel </td><td>(26°S) -19.65    </td><td>(26°S) -16.32</td><td>(17°S) -16 ± 8.9         </td><td>                   </td></tr>\n",
       "</tbody>\n",
       "</table>"
      ],
      "text/plain": [
       "<IPython.core.display.HTML object>"
      ]
     },
     "metadata": {},
     "output_type": "display_data"
    }
   ],
   "source": [
    "title3 = [[\"Table 3. Annual mean net volume transports through major straits (Sv). Historical estimates computed over 1985-2014. \"]]\n",
    "\n",
    "table3 = [[\"Transport (Sv)\",\"AWICM3 Historical\",\"AWICM3 4xCO2\",\"Observations\",\"CMIP5/CMIP6 MMM\"],\n",
    "         [\"Fram Strait\",FS_HIST,FS_4XCO,\"-2 ± 2.7\", \" \"],\n",
    "         [\"Davis Strait\",DS_HIST,DS_4XCO,\"-1.6 ± 0.5\", \" \"],\n",
    "         [\"Bering Strait\",BS_HIST,BS_4XCO,\"0.81\", \" \"],\n",
    "         [\"Nares Strait\",NS_HIST,NS_4XCO,\"-0.57 ± 0.09, -0.8 ± 0.3\", \" \"],\n",
    "         [\"Barents Sea Opening\",BSO_HIST,BSO_4XCO,\"2\", \" \"],\n",
    "         [\"Drake Passage\",DP_HIST,DP_4XCO,\"136.7 ± 6.9, 173.3 ± 10.7\", \"148 ± 38 / 137 ± 37\"],\n",
    "         [\"Mozambique Channel\",\"(26°S) \"+str(MC_HIST),\"(26°S) \"+str(MC_4XCO),\"(17°S) -16 ± 8.9\", \" \"]]\n",
    "         #[\"Indonezian Throughflow\",\"\",\"-12.4\",\"-15\", \"Gordon et al. (2010)\"]]\n",
    "        # [\"Florida Bahamas Strait\",\"\",\"37.9\",\"31.6\", \"McDonagh et al. (2015)\"]]\n",
    "\n",
    "display(HTML(tabulate.tabulate(title3, tablefmt='html')))\n",
    "\n",
    "display(HTML(tabulate.tabulate(table3, tablefmt='html')))"
   ]
  },
  {
   "cell_type": "code",
   "execution_count": null,
   "id": "imperial-spiritual",
   "metadata": {},
   "outputs": [],
   "source": []
  }
 ],
 "metadata": {
  "kernelspec": {
   "display_name": "pyfesom2",
   "language": "python",
   "name": "pyfesom2"
  },
  "language_info": {
   "codemirror_mode": {
    "name": "ipython",
    "version": 3
   },
   "file_extension": ".py",
   "mimetype": "text/x-python",
   "name": "python",
   "nbconvert_exporter": "python",
   "pygments_lexer": "ipython3",
   "version": "3.8.6"
  }
 },
 "nbformat": 4,
 "nbformat_minor": 5
}
